{
 "cells": [
  {
   "cell_type": "markdown",
   "metadata": {},
   "source": [
    "## Introduction\n",
    "\n",
    "Detect fraudulent emails."
   ]
  },
  {
   "cell_type": "code",
   "execution_count": 1,
   "metadata": {},
   "outputs": [],
   "source": [
    "# Enter the s3 path of the input data file\n",
    "s3_source_file=\"s3://bucket/mycsv.csv\""
   ]
  },
  {
   "cell_type": "code",
   "execution_count": 2,
   "metadata": {},
   "outputs": [],
   "source": [
    "# Enter the s3 path of the output data file\n",
    "bucket = 'aegovansagemaker' # Replace with your own bucket name if needed, this is the destination bucket\n",
    "prefix = 'cs_emailfraud/sagemaker' "
   ]
  },
  {
   "cell_type": "markdown",
   "metadata": {},
   "source": [
    "## Setup\n",
    "\n",
    "Let's start by specifying:\n",
    "\n",
    "- The S3 bucket and prefix that you want to use for training and model data. This should be within the same region as the Notebook Instance, training, and hosting. If you don't specify a bucket, SageMaker SDK will create a default bucket following a pre-defined naming convention in the same region. \n",
    "- The IAM role ARN used to give SageMaker access to your data. It can be fetched using the **get_execution_role** method from sagemaker python SDK."
   ]
  },
  {
   "cell_type": "code",
   "execution_count": null,
   "metadata": {},
   "outputs": [],
   "source": [
    "!pip install scikit-plot==0.3.7\n",
    "!pip install numpy==1.15.1\n",
    "!pip install matplotlib==2.7.3\n",
    "!pip install scikit-learn==0.20.0\n",
    "!pip install nltk==3.3\n",
    "!pip install pandas==0.22.0\n",
    "!pip install sagemaker==1.10.1  \n"
   ]
  },
  {
   "cell_type": "code",
   "execution_count": 3,
   "metadata": {
    "isConfigCell": true
   },
   "outputs": [],
   "source": [
    "import sagemaker\n",
    "from sagemaker import get_execution_role\n",
    "import json\n",
    "import boto3\n",
    "\n",
    "sess = sagemaker.Session()\n",
    "\n",
    "role = get_execution_role()\n"
   ]
  },
  {
   "cell_type": "markdown",
   "metadata": {},
   "source": [
    "### Download data from S3"
   ]
  },
  {
   "cell_type": "code",
   "execution_count": 73,
   "metadata": {},
   "outputs": [],
   "source": [
    "local_tmp_dir=\"tmp\"\n",
    "inputfile=\"{}/data.csv\".format(local_tmp_dir)\n",
    "!mkdir -p local_tmp_dir"
   ]
  },
  {
   "cell_type": "code",
   "execution_count": 5,
   "metadata": {},
   "outputs": [
    {
     "name": "stdout",
     "output_type": "stream",
     "text": [
      "download: s3://aegovansagemaker/carsales-fraud-extract-extended.csv to tmp/data.csv\n"
     ]
    }
   ],
   "source": [
    "\n",
    "!aws s3 cp $s3_source_file $inputfile"
   ]
  },
  {
   "cell_type": "code",
   "execution_count": 74,
   "metadata": {},
   "outputs": [
    {
     "name": "stdout",
     "output_type": "stream",
     "text": [
      "﻿Id,ExtractionDate,RequestId,EnquiryId,Comments,IsFraud,AuditTrailCodes,FullfillmentAction,UpdateReasonCodes,UpdatedData,UpdateInvestigationAction,Make,Model,Year,Price\r",
      "\r\n",
      "1,2017-08-22,1b3bd899-6da7-45be-b658-702de4c6a727,58294161-a033-4beb-8f58-c15725d936d9,your kidding me.. thats a bomb.. $100 if even that mate.. jesus,1,\"Custom - CARS - Enquiry with Lexical Phrase or Word - SUSPECT\r\n",
      "\r",
      "(NULTP) - SUSPECT\r\n",
      "\r",
      "(NULOS) - SUSPECT\",CANCEL,ARE,\"{\"\"id\"\":\"\"1b3bd899-6da7-45be-b658-702de4c6a727\"\",\"\"modelCode\"\":\"\"ENQUIRIES\"\",\"\"modelVersion\"\":100830,\"\"orgCode\"\":\"\"CARS\"\",\"\"time\"\":\"\"2017-08-22T00:55:28.637Z\"\",\"\"score\"\":1500,\"\"deviceId\"\":\"\"33D126D2D9ABC2B1C2360E77B586B440A73C2922\"\",\"\"tdl\"\":35954314,\"\"systemResponse\"\":1,\"\"riskLevel\"\":\"\"MEDIUM\"\",\"\"fulfillmentAction\"\":\"\"CANCEL\"\",\"\"memos\"\":null,\"\"investigatorActions\"\":[{\"\"username\"\":\"\"stephenf\"\",\"\"action\"\":\"\"CANCEL\"\",\"\"reasonCode\"\":\"\"ARE\"\",\"\"time\"\":\"\"2017-08-22T04:06:12Z\"\"}],\"\"feedback\"\":null,\"\"Confirmed\"\":false}\",CANCEL,Holden,Commodore,2002,3000.00\r",
      "\r\n",
      "2,2017-08-22,886fce7b-45f7-49c5-81f4-407052e191c2,b15a2568-a1b6-4ce7-ad69-502782a1588b,Wondering if you may be interested in putting your boat on consignment with us at dAboras Marina The Spit any interest p[lease call,1,\"(VXBE4) - NOTE\r\n",
      "\r",
      "Negative IP Address - SUSPECT\r\n",
      "\r",
      "(BRWTP) - NOTE\r\n",
      "\r",
      "Custom - CARS - Enquiry with Lexical Phrase or Word - SUSPECT\",CANCEL,ARE,\"{\"\"id\"\":\"\"886fce7b-45f7-49c5-81f4-407052e191c2\"\",\"\"modelCode\"\":\"\"ENQUIRIES\"\",\"\"modelVersion\"\":100830,\"\"orgCode\"\":\"\"CARS\"\",\"\"time\"\":\"\"2017-08-22T06:09:13.58Z\"\",\"\"score\"\":3000,\"\"deviceId\"\":\"\"C6C9C24A2ABA0601E0F207CF16EC071FC7054576\"\",\"\"tdl\"\":36014756,\"\"systemResponse\"\":1,\"\"riskLevel\"\":\"\"MEDIUM\"\",\"\"fulfillmentAction\"\":\"\"CANCEL\"\",\"\"memos\"\":null,\"\"investigatorActions\"\":[{\"\"username\"\":\"\"stephenf\"\",\"\"action\"\":\"\"CANCEL\"\",\"\"reasonCode\"\":\"\"ARE\"\",\"\"time\"\":\"\"2017-08-22T23:01:24Z\"\"}],\"\"feedback\"\":null,\"\"Confirmed\"\":false}\",CANCEL,Sea Ray,355 Sundancer,2005,124880.00\r",
      "\r\n",
      "3,2017-08-22,9f02194b-8b97-43a8-8686-01ddcdc5b047,9e1a75e4-08bf-4a4b-bd20-6ca0a25c1461,Would you be interested in putting your boat on consignment with us at dAlboras marina The Spit,1,\"(VXBE4) - NOTE\r\n",
      "\r",
      "Negative IP Address - SUSPECT\r\n"
     ]
    }
   ],
   "source": [
    "!head $inputfile"
   ]
  },
  {
   "cell_type": "markdown",
   "metadata": {},
   "source": [
    "### Prepare the dataset"
   ]
  },
  {
   "cell_type": "markdown",
   "metadata": {},
   "source": [
    "Reformat the file as expected by blazing text with no header"
   ]
  },
  {
   "cell_type": "code",
   "execution_count": 75,
   "metadata": {},
   "outputs": [],
   "source": [
    "import csv\n",
    "import nltk\n",
    "\n",
    "\n",
    "def get_data(inputfile):\n",
    "    nltk.download('punkt')\n",
    "    data = []\n",
    "    with open(inputfile, \"r\") as i:\n",
    "        csv_reader = csv.reader(i, delimiter=\",\", quotechar='\"')\n",
    "        # Ignore head\n",
    "        next(csv_reader)\n",
    "        for l in csv_reader:\n",
    "            raw_label= l[5]\n",
    "            label=\"__label__{}\".format(raw_label)\n",
    "            # Features - Comments, Make, Model , Year, Price\n",
    "            text = \"{} {} {} {} {}\".format(l[4], l[11], l[12], l[13], l[14]).replace(\"\\n\", \"\")\n",
    "            tokens = nltk.word_tokenize(text.lower())      \n",
    "            data.append({\"label\" : raw_label, \"text\":text, \"tokens\": tokens})\n",
    "\n",
    "    return data\n",
    "        \n",
    "\n",
    "\n",
    "   \n",
    "        \n",
    "    "
   ]
  },
  {
   "cell_type": "code",
   "execution_count": 76,
   "metadata": {},
   "outputs": [
    {
     "name": "stdout",
     "output_type": "stream",
     "text": [
      "[nltk_data] Downloading package punkt to /home/ec2-user/nltk_data...\n",
      "[nltk_data]   Package punkt is already up-to-date!\n"
     ]
    }
   ],
   "source": [
    "\n",
    "data_list = get_data(inputfile)\n"
   ]
  },
  {
   "cell_type": "markdown",
   "metadata": {},
   "source": [
    "#### Analyse the dataset"
   ]
  },
  {
   "cell_type": "code",
   "execution_count": 77,
   "metadata": {},
   "outputs": [],
   "source": [
    "import pandas as pd\n",
    "import matplotlib.pyplot as plt\n",
    "data = pd.DataFrame(data_list)\n"
   ]
  },
  {
   "cell_type": "code",
   "execution_count": 78,
   "metadata": {},
   "outputs": [],
   "source": [
    "pd.set_option('display.max_columns', None)\n",
    "pd.set_option('display.max_colwidth', 10000)\n",
    "pd.set_option('display.max_rows', 100)"
   ]
  },
  {
   "cell_type": "code",
   "execution_count": 79,
   "metadata": {},
   "outputs": [
    {
     "name": "stdout",
     "output_type": "stream",
     "text": [
      "Total no of records in the dataset 64045\n"
     ]
    }
   ],
   "source": [
    "print(\"Total no of records in the dataset {}\".format(data.shape[0]))"
   ]
  },
  {
   "cell_type": "code",
   "execution_count": 80,
   "metadata": {},
   "outputs": [
    {
     "data": {
      "text/html": [
       "<div>\n",
       "<style scoped>\n",
       "    .dataframe tbody tr th:only-of-type {\n",
       "        vertical-align: middle;\n",
       "    }\n",
       "\n",
       "    .dataframe tbody tr th {\n",
       "        vertical-align: top;\n",
       "    }\n",
       "\n",
       "    .dataframe thead th {\n",
       "        text-align: right;\n",
       "    }\n",
       "</style>\n",
       "<table border=\"1\" class=\"dataframe\">\n",
       "  <thead>\n",
       "    <tr style=\"text-align: right;\">\n",
       "      <th></th>\n",
       "      <th>label</th>\n",
       "      <th>text</th>\n",
       "      <th>tokens</th>\n",
       "    </tr>\n",
       "  </thead>\n",
       "  <tbody>\n",
       "    <tr>\n",
       "      <th>0</th>\n",
       "      <td>1</td>\n",
       "      <td>your kidding me.. thats a bomb.. $100 if even that mate.. jesus Holden Commodore 2002 3000.00</td>\n",
       "      <td>[your, kidding, me.., thats, a, bomb.., $, 100, if, even, that, mate.., jesus, holden, commodore, 2002, 3000.00]</td>\n",
       "    </tr>\n",
       "    <tr>\n",
       "      <th>1</th>\n",
       "      <td>1</td>\n",
       "      <td>Wondering if you may be interested in putting your boat on consignment with us at dAboras Marina The Spit any interest p[lease call Sea Ray 355 Sundancer 2005 124880.00</td>\n",
       "      <td>[wondering, if, you, may, be, interested, in, putting, your, boat, on, consignment, with, us, at, daboras, marina, the, spit, any, interest, p, [, lease, call, sea, ray, 355, sundancer, 2005, 124880.00]</td>\n",
       "    </tr>\n",
       "    <tr>\n",
       "      <th>2</th>\n",
       "      <td>1</td>\n",
       "      <td>Would you be interested in putting your boat on consignment with us at dAlboras marina The Spit Sea Ray 275 SUNDANCER 2005 54000.00</td>\n",
       "      <td>[would, you, be, interested, in, putting, your, boat, on, consignment, with, us, at, dalboras, marina, the, spit, sea, ray, 275, sundancer, 2005, 54000.00]</td>\n",
       "    </tr>\n",
       "  </tbody>\n",
       "</table>\n",
       "</div>"
      ],
      "text/plain": [
       "  label  \\\n",
       "0     1   \n",
       "1     1   \n",
       "2     1   \n",
       "\n",
       "                                                                                                                                                                       text  \\\n",
       "0                                                                             your kidding me.. thats a bomb.. $100 if even that mate.. jesus Holden Commodore 2002 3000.00   \n",
       "1  Wondering if you may be interested in putting your boat on consignment with us at dAboras Marina The Spit any interest p[lease call Sea Ray 355 Sundancer 2005 124880.00   \n",
       "2                                       Would you be interested in putting your boat on consignment with us at dAlboras marina The Spit Sea Ray 275 SUNDANCER 2005 54000.00   \n",
       "\n",
       "                                                                                                                                                                                                       tokens  \n",
       "0                                                                                            [your, kidding, me.., thats, a, bomb.., $, 100, if, even, that, mate.., jesus, holden, commodore, 2002, 3000.00]  \n",
       "1  [wondering, if, you, may, be, interested, in, putting, your, boat, on, consignment, with, us, at, daboras, marina, the, spit, any, interest, p, [, lease, call, sea, ray, 355, sundancer, 2005, 124880.00]  \n",
       "2                                                 [would, you, be, interested, in, putting, your, boat, on, consignment, with, us, at, dalboras, marina, the, spit, sea, ray, 275, sundancer, 2005, 54000.00]  "
      ]
     },
     "execution_count": 80,
     "metadata": {},
     "output_type": "execute_result"
    }
   ],
   "source": [
    "data.head(n=3)"
   ]
  },
  {
   "cell_type": "markdown",
   "metadata": {},
   "source": [
    "Let us inspect the dataset and the classes to get some understanding about how the data and the label is provided in the dataset. "
   ]
  },
  {
   "cell_type": "code",
   "execution_count": 81,
   "metadata": {},
   "outputs": [
    {
     "data": {
      "image/png": "[encoded data removed]",
      "text/plain": [
       "<Figure size 360x360 with 1 Axes>"
      ]
     },
     "metadata": {},
     "output_type": "display_data"
    }
   ],
   "source": [
    "data[\"label\"].value_counts().plot.pie(autopct='%.2f',figsize=(5, 5), colors=[\"green\",\"yellow\"])\n",
    "plt.title = \"Fraud class distribution\"\n",
    "plt.show()"
   ]
  },
  {
   "cell_type": "code",
   "execution_count": 82,
   "metadata": {},
   "outputs": [],
   "source": [
    "num_classes = data[\"label\"].nunique()"
   ]
  },
  {
   "cell_type": "markdown",
   "metadata": {},
   "source": [
    "Split Data into Train, Test and Validation"
   ]
  },
  {
   "cell_type": "code",
   "execution_count": 83,
   "metadata": {},
   "outputs": [],
   "source": [
    "from sklearn.model_selection import train_test_split, learning_curve\n",
    "train_test, validation = train_test_split(data, test_size = 0.2, random_state = 777)\n",
    "train, test = train_test_split(train_test, test_size = 0.2, random_state = 777)"
   ]
  },
  {
   "cell_type": "markdown",
   "metadata": {},
   "source": [
    "View the class distribution for the train and validation set"
   ]
  },
  {
   "cell_type": "code",
   "execution_count": 86,
   "metadata": {},
   "outputs": [
    {
     "data": {
      "image/png": "[encoded data removed]",
      "text/plain": [
       "<Figure size 1080x360 with 3 Axes>"
      ]
     },
     "metadata": {},
     "output_type": "display_data"
    }
   ],
   "source": [
    "fig, ax = plt.subplots( 1,3, figsize=(15,5))\n",
    "axis=ax[0]\n",
    "train[\"label\"].value_counts().plot.pie(autopct='%.2f', colors=[\"green\",\"yellow\"], ax=axis)\n",
    "axis.set_title(\"Train set fraud class distribution\")\n",
    "\n",
    "axis=ax[1]\n",
    "validation[\"label\"].value_counts().plot.pie(autopct='%.2f', colors=[\"green\",\"yellow\"], ax=axis)\n",
    "axis.set_title(\"Validation set fraud class distribution\")\n",
    "\n",
    "\n",
    "axis=ax[2]\n",
    "test[\"label\"].value_counts().plot.pie(autopct='%.2f', colors=[\"green\",\"yellow\"], ax=axis)\n",
    "axis.set_title(\"Test set fraud class distribution\")\n",
    "plt.show()"
   ]
  },
  {
   "cell_type": "markdown",
   "metadata": {},
   "source": [
    "#### Prepare the dataset file for Blazing text\n",
    "The first column should be the label formatted as \\__label__<labelname\\>"
   ]
  },
  {
   "cell_type": "code",
   "execution_count": 87,
   "metadata": {},
   "outputs": [],
   "source": [
    "import csv\n",
    "\n",
    "def write_formatted_file(data, outputfile):\n",
    "    with open(outputfile , \"w\") as o:\n",
    "        for index, row in data.iterrows():\n",
    "            label=\"__label__{}\".format(row[\"label\"])\n",
    "            token_sep_space=\" \".join(row[\"tokens\"])\n",
    "            o.write(\"{} {}\\n\".format(label, token_sep_space))"
   ]
  },
  {
   "cell_type": "code",
   "execution_count": 88,
   "metadata": {},
   "outputs": [],
   "source": [
    "from sklearn.model_selection import train_test_split, learning_curve\n",
    "\n",
    "\n",
    "formatted_train_file=\"{}/train.txt\".format(local_tmp_dir)\n",
    "formatted_validation_file=\"{}/validation.txt\".format(local_tmp_dir)\n",
    "formatted_test_file=\"{}/test.txt\".format(local_tmp_dir)\n",
    "\n",
    "\n",
    "\n",
    "write_formatted_file(train, formatted_train_file)\n",
    "write_formatted_file(validation, formatted_validation_file)\n",
    "write_formatted_file(test, formatted_test_file)"
   ]
  },
  {
   "cell_type": "markdown",
   "metadata": {},
   "source": [
    "This is how the formatted file looks like."
   ]
  },
  {
   "cell_type": "code",
   "execution_count": 89,
   "metadata": {},
   "outputs": [
    {
     "name": "stdout",
     "output_type": "stream",
     "text": [
      "__label__0 hi , just like to know if there is any scratches or dents as the photo ’ s are misleading on one size . kia rio 2010 8000.00\r\n",
      "__label__0 could you please share details if available with you ? is car serviced regularly as per manufacturer recommend scheduled ? when it is last serviced and when is due for next service ? is it going to be major service or minor ? is car timing ( alternaor ) belt have been changed or due for change in immediate future ? is car brack pad and disc has been changed or due for changes ? toyota kluger 2006 9500.00\r\n",
      "__label__0 null nissan patrol 2013 34950.00\r\n",
      "__label__0 hello emanuel i ’ m interested in your advertisement for hond civic , i tried to call you many times you weren ’ t available , please answer and call me if you ’ d like to sell your car . honda civic 2014 14900.00\r\n",
      "__label__0 hi is the car still for sale call lenny on 0418972176 toyota fortuner 2015 36500.00\r\n",
      "__label__0 neg/ ? hyundai ix35 2011 12200.00\r\n",
      "__label__0 interested in having a look😊 audi a6 2010 20549.00\r\n",
      "__label__0 5k if you want me come from nsw mitsubishi legnum 1999 7500.00\r\n",
      "__label__0 hello , i 'd be interested to come and have a look at your car if you could give me a call to arrange a suitable time . thanks . john goodieson . audi q5 2010 20750.00\r\n",
      "__label__0 hi ! chris.my name is matthew.i ’ m interested in talking to you about your mazda mps.i ’ m from geelong.i ’ m not having much luck finding a good one down here.i have looked at 3 so fare.one i think was a repairable right off car ! and the other 2 were under finance when the owners said they weren ’ t ! so perhaps i might do better with a nice country person like myself.if you ’ re car is still for sale.i see your from the bendigo area , so i will need to talk to you for a little bit and get some information of you before i could come and look at your car.text me your number on ph0408 733 489 and i will call you back.matthew . mazda 3 2011 15500.00\r\n"
     ]
    }
   ],
   "source": [
    "!head $formatted_train_file"
   ]
  },
  {
   "cell_type": "markdown",
   "metadata": {},
   "source": [
    "The data preprocessing cell might take a minute to run. After the data preprocessing is complete, we need to upload it to S3 so that it can be consumed by SageMaker to execute training jobs. We'll use Python SDK to upload these two files to the bucket and prefix location that we have set above.   "
   ]
  },
  {
   "cell_type": "code",
   "execution_count": 90,
   "metadata": {},
   "outputs": [
    {
     "name": "stdout",
     "output_type": "stream",
     "text": [
      "CPU times: user 336 ms, sys: 40 ms, total: 376 ms\n",
      "Wall time: 653 ms\n"
     ]
    }
   ],
   "source": [
    "%%time\n",
    "\n",
    "train_channel = prefix + '/train'\n",
    "validation_channel = prefix + '/validation'\n",
    "\n",
    "sess.upload_data(path=formatted_train_file, bucket=bucket, key_prefix=train_channel)\n",
    "sess.upload_data(path=formatted_validation_file, bucket=bucket, key_prefix=validation_channel)\n",
    "\n",
    "s3_train_data = 's3://{}/{}'.format(bucket, train_channel)\n",
    "s3_validation_data = 's3://{}/{}'.format(bucket, validation_channel)\n"
   ]
  },
  {
   "cell_type": "markdown",
   "metadata": {},
   "source": [
    "Next we need to setup an output location at S3, where the model artifact will be dumped. These artifacts are also the output of the algorithm's traning job."
   ]
  },
  {
   "cell_type": "code",
   "execution_count": 91,
   "metadata": {},
   "outputs": [],
   "source": [
    "s3_output_location = 's3://{}/{}/output'.format(bucket, prefix)"
   ]
  },
  {
   "cell_type": "markdown",
   "metadata": {},
   "source": [
    "## Training\n",
    "Now that we are done with all the setup that is needed, we are ready to train our object detector. To begin, let us create a ``sageMaker.estimator.Estimator`` object. This estimator will launch the training job."
   ]
  },
  {
   "cell_type": "code",
   "execution_count": 92,
   "metadata": {},
   "outputs": [],
   "source": [
    "region_name = boto3.Session().region_name\n",
    "from sagemaker.amazon.amazon_estimator import get_image_uri\n",
    "container = get_image_uri(boto3.Session().region_name, 'blazingtext')"
   ]
  },
  {
   "cell_type": "markdown",
   "metadata": {},
   "source": [
    "## Training the BlazingText model for supervised text classification"
   ]
  },
  {
   "cell_type": "code",
   "execution_count": 56,
   "metadata": {},
   "outputs": [],
   "source": [
    "bt_model = sagemaker.estimator.Estimator(container,\n",
    "                                         role, \n",
    "                                         train_instance_count=1, \n",
    "                                         train_instance_type='ml.c4.4xlarge',\n",
    "                                         train_volume_size = 30,\n",
    "                                         train_max_run = 360000,\n",
    "                                         input_mode= 'File',\n",
    "                                         output_path=s3_output_location,\n",
    "                                         sagemaker_session=sess)"
   ]
  },
  {
   "cell_type": "markdown",
   "metadata": {},
   "source": [
    "Please refer to [algorithm documentation](https://docs.aws.amazon.com/sagemaker/latest/dg/blazingtext_hyperparameters.html) for the complete list of hyperparameters."
   ]
  },
  {
   "cell_type": "code",
   "execution_count": 57,
   "metadata": {},
   "outputs": [],
   "source": [
    "bt_model.set_hyperparameters(mode=\"supervised\",\n",
    "                            epochs=600,\n",
    "                            min_count=2,\n",
    "                            learning_rate=0.05,\n",
    "                            vector_dim=150,\n",
    "                            early_stopping=True,\n",
    "                            patience=50,\n",
    "                            min_epochs=5,\n",
    "                            subwords=False,\n",
    "                            word_ngrams=3)"
   ]
  },
  {
   "cell_type": "markdown",
   "metadata": {},
   "source": [
    "Now that the hyper-parameters are setup, let us prepare the handshake between our data channels and the algorithm. To do this, we need to create the `sagemaker.session.s3_input` objects from our data channels. These objects are then put in a simple dictionary, which the algorithm consumes."
   ]
  },
  {
   "cell_type": "code",
   "execution_count": 58,
   "metadata": {},
   "outputs": [],
   "source": [
    "train_data = sagemaker.session.s3_input(s3_train_data, distribution='FullyReplicated', \n",
    "                        content_type='text/plain', s3_data_type='S3Prefix')\n",
    "validation_data = sagemaker.session.s3_input(s3_validation_data, distribution='FullyReplicated', \n",
    "                             content_type='text/plain', s3_data_type='S3Prefix')\n",
    "data_channels = {'train': train_data, 'validation': validation_data}"
   ]
  },
  {
   "cell_type": "code",
   "execution_count": 59,
   "metadata": {},
   "outputs": [
    {
     "name": "stderr",
     "output_type": "stream",
     "text": [
      "INFO:sagemaker:Creating training-job with name: blazingtext-2018-10-11-22-50-34-385\n"
     ]
    },
    {
     "name": "stdout",
     "output_type": "stream",
     "text": [
      "............\n",
      "\u001b[31mArguments: train\u001b[0m\n",
      "\u001b[31m[10/11/2018 22:52:30 WARNING 139975463876416] Loggers have already been setup.\u001b[0m\n",
      "\u001b[31m[10/11/2018 22:52:30 WARNING 139975463876416] Loggers have already been setup.\u001b[0m\n",
      "\u001b[31m[10/11/2018 22:52:30 INFO 139975463876416] nvidia-smi took: 0.0252070426941 secs to identify 0 gpus\u001b[0m\n",
      "\u001b[31m[10/11/2018 22:52:30 INFO 139975463876416] Running single machine CPU BlazingText training using supervised mode.\u001b[0m\n",
      "\u001b[31m[10/11/2018 22:52:30 INFO 139975463876416] Processing /opt/ml/input/data/train/train.txt . File size: 8 MB\u001b[0m\n",
      "\u001b[31m[10/11/2018 22:52:30 INFO 139975463876416] Processing /opt/ml/input/data/validation/validation.txt . File size: 2 MB\u001b[0m\n",
      "\u001b[31mRead 1M words\u001b[0m\n",
      "\u001b[31mNumber of words:  15583\u001b[0m\n",
      "\u001b[31mLoading validation data from /opt/ml/input/data/validation/validation.txt\u001b[0m\n",
      "\u001b[31mLoaded validation data.\u001b[0m\n",
      "\u001b[31m-------------- End of epoch: 1\u001b[0m\n",
      "\u001b[31m-------------- End of epoch: 2\u001b[0m\n",
      "\u001b[31m-------------- End of epoch: 3\u001b[0m\n",
      "\u001b[31m-------------- End of epoch: 4\u001b[0m\n",
      "\u001b[31m-------------- End of epoch: 5\u001b[0m\n",
      "\u001b[31mUsing 16 threads for prediction!\u001b[0m\n",
      "\u001b[31mValidation accuracy: 0.954641\u001b[0m\n",
      "\u001b[31mValidation accuracy improved! Storing best weights...\u001b[0m\n",
      "\u001b[31m-------------- End of epoch: 6\u001b[0m\n",
      "\u001b[31mUsing 16 threads for prediction!\u001b[0m\n",
      "\u001b[31mValidation accuracy: 0.95589\u001b[0m\n",
      "\u001b[31mValidation accuracy improved! Storing best weights...\u001b[0m\n",
      "\u001b[31m-------------- End of epoch: 7\u001b[0m\n",
      "\u001b[31mUsing 16 threads for prediction!\u001b[0m\n",
      "\u001b[31mValidation accuracy: 0.956359\u001b[0m\n",
      "\u001b[31mValidation accuracy improved! Storing best weights...\u001b[0m\n",
      "\u001b[31m-------------- End of epoch: 8\u001b[0m\n",
      "\u001b[31mUsing 16 threads for prediction!\u001b[0m\n",
      "\u001b[31mValidation accuracy: 0.9555\u001b[0m\n",
      "\u001b[31mValidation accuracy has not improved for last 1 epochs.\u001b[0m\n",
      "\u001b[31m-------------- End of epoch: 9\u001b[0m\n",
      "\u001b[31mUsing 16 threads for prediction!\u001b[0m\n",
      "\u001b[31mValidation accuracy: 0.957764\u001b[0m\n",
      "\u001b[31mValidation accuracy improved! Storing best weights...\u001b[0m\n",
      "\u001b[31m-------------- End of epoch: 10\u001b[0m\n",
      "\u001b[31mUsing 16 threads for prediction!\u001b[0m\n",
      "\u001b[31mValidation accuracy: 0.957764\u001b[0m\n",
      "\u001b[31mValidation accuracy has not improved for last 1 epochs.\u001b[0m\n",
      "\u001b[31m-------------- End of epoch: 11\u001b[0m\n",
      "\u001b[31mUsing 16 threads for prediction!\u001b[0m\n",
      "\u001b[31mValidation accuracy: 0.95753\u001b[0m\n",
      "\u001b[31mValidation accuracy has not improved for last 2 epochs.\u001b[0m\n",
      "\u001b[31m##### Alpha: 0.0490  Progress: 2.04%  Million Words/sec: 3.96 #####\u001b[0m\n",
      "\u001b[31m-------------- End of epoch: 12\u001b[0m\n",
      "\u001b[31mUsing 16 threads for prediction!\u001b[0m\n",
      "\u001b[31mValidation accuracy: 0.958467\u001b[0m\n",
      "\u001b[31mValidation accuracy improved! Storing best weights...\u001b[0m\n",
      "\u001b[31m-------------- End of epoch: 13\u001b[0m\n",
      "\u001b[31mUsing 16 threads for prediction!\u001b[0m\n",
      "\u001b[31mValidation accuracy: 0.958701\u001b[0m\n",
      "\u001b[31mValidation accuracy improved! Storing best weights...\u001b[0m\n",
      "\u001b[31m-------------- End of epoch: 14\u001b[0m\n",
      "\u001b[31mUsing 16 threads for prediction!\u001b[0m\n",
      "\u001b[31mValidation accuracy: 0.956281\u001b[0m\n",
      "\u001b[31mValidation accuracy has not improved for last 1 epochs.\u001b[0m\n",
      "\u001b[31m-------------- End of epoch: 15\u001b[0m\n",
      "\u001b[31mUsing 16 threads for prediction!\u001b[0m\n",
      "\u001b[31mValidation accuracy: 0.958389\u001b[0m\n",
      "\u001b[31mValidation accuracy has not improved for last 2 epochs.\u001b[0m\n",
      "\u001b[31m-------------- End of epoch: 16\u001b[0m\n",
      "\u001b[31mUsing 16 threads for prediction!\u001b[0m\n",
      "\u001b[31mValidation accuracy: 0.957374\u001b[0m\n",
      "\u001b[31mValidation accuracy has not improved for last 3 epochs.\u001b[0m\n",
      "\u001b[31m-------------- End of epoch: 17\u001b[0m\n",
      "\u001b[31mUsing 16 threads for prediction!\u001b[0m\n",
      "\u001b[31mValidation accuracy: 0.956281\u001b[0m\n",
      "\u001b[31mValidation accuracy has not improved for last 4 epochs.\u001b[0m\n",
      "\u001b[31m-------------- End of epoch: 18\u001b[0m\n",
      "\u001b[31mUsing 16 threads for prediction!\u001b[0m\n",
      "\u001b[31mValidation accuracy: 0.954173\u001b[0m\n",
      "\u001b[31mValidation accuracy has not improved for last 5 epochs.\u001b[0m\n",
      "\u001b[31m-------------- End of epoch: 19\u001b[0m\n",
      "\u001b[31mUsing 16 threads for prediction!\u001b[0m\n",
      "\u001b[31mValidation accuracy: 0.958935\u001b[0m\n",
      "\u001b[31mValidation accuracy improved! Storing best weights...\u001b[0m\n",
      "\u001b[31m-------------- End of epoch: 20\u001b[0m\n",
      "\u001b[31mUsing 16 threads for prediction!\u001b[0m\n",
      "\u001b[31mValidation accuracy: 0.959794\u001b[0m\n",
      "\u001b[31mValidation accuracy improved! Storing best weights...\u001b[0m\n",
      "\u001b[31m-------------- End of epoch: 21\u001b[0m\n",
      "\u001b[31mUsing 16 threads for prediction!\u001b[0m\n",
      "\u001b[31mValidation accuracy: 0.959247\u001b[0m\n",
      "\u001b[31mValidation accuracy has not improved for last 1 epochs.\u001b[0m\n",
      "\u001b[31m-------------- End of epoch: 22\u001b[0m\n",
      "\u001b[31mUsing 16 threads for prediction!\u001b[0m\n",
      "\u001b[31mValidation accuracy: 0.95956\u001b[0m\n",
      "\u001b[31mValidation accuracy has not improved for last 2 epochs.\u001b[0m\n",
      "\u001b[31m-------------- End of epoch: 23\u001b[0m\n",
      "\u001b[31mUsing 16 threads for prediction!\u001b[0m\n",
      "\u001b[31mValidation accuracy: 0.956983\u001b[0m\n",
      "\u001b[31mValidation accuracy has not improved for last 3 epochs.\u001b[0m\n",
      "\u001b[31m-------------- End of epoch: 24\u001b[0m\n",
      "\u001b[31mUsing 16 threads for prediction!\u001b[0m\n",
      "\u001b[31mValidation accuracy: 0.957608\u001b[0m\n",
      "\u001b[31mValidation accuracy has not improved for last 4 epochs.\u001b[0m\n",
      "\u001b[31m-------------- End of epoch: 25\u001b[0m\n",
      "\u001b[31mUsing 16 threads for prediction!\u001b[0m\n",
      "\u001b[31mValidation accuracy: 0.954485\u001b[0m\n",
      "\u001b[31mValidation accuracy has not improved for last 5 epochs.\u001b[0m\n",
      "\u001b[31m-------------- End of epoch: 26\u001b[0m\n",
      "\u001b[31mUsing 16 threads for prediction!\u001b[0m\n",
      "\u001b[31mValidation accuracy: 0.957374\u001b[0m\n",
      "\u001b[31mValidation accuracy has not improved for last 6 epochs.\u001b[0m\n",
      "\u001b[31m-------------- End of epoch: 27\u001b[0m\n",
      "\u001b[31mUsing 16 threads for prediction!\u001b[0m\n",
      "\u001b[31mValidation accuracy: 0.9555\u001b[0m\n",
      "\u001b[31mValidation accuracy has not improved for last 7 epochs.\u001b[0m\n",
      "\u001b[31m-------------- End of epoch: 28\u001b[0m\n",
      "\u001b[31mUsing 16 threads for prediction!\u001b[0m\n",
      "\u001b[31mValidation accuracy: 0.957608\u001b[0m\n",
      "\u001b[31mValidation accuracy has not improved for last 8 epochs.\u001b[0m\n",
      "\u001b[31m-------------- End of epoch: 29\u001b[0m\n",
      "\u001b[31mUsing 16 threads for prediction!\u001b[0m\n",
      "\u001b[31mValidation accuracy: 0.955578\u001b[0m\n",
      "\u001b[31mValidation accuracy has not improved for last 9 epochs.\u001b[0m\n",
      "\u001b[31m-------------- End of epoch: 30\u001b[0m\n",
      "\u001b[31mUsing 16 threads for prediction!\u001b[0m\n",
      "\u001b[31mValidation accuracy: 0.958935\u001b[0m\n",
      "\u001b[31mValidation accuracy has not improved for last 10 epochs.\u001b[0m\n",
      "\u001b[31m-------------- End of epoch: 31\u001b[0m\n",
      "\u001b[31mUsing 16 threads for prediction!\u001b[0m\n",
      "\u001b[31mValidation accuracy: 0.954407\u001b[0m\n",
      "\u001b[31mValidation accuracy has not improved for last 11 epochs.\u001b[0m\n",
      "\u001b[31m-------------- End of epoch: 32\u001b[0m\n",
      "\u001b[31mUsing 16 threads for prediction!\u001b[0m\n",
      "\u001b[31mValidation accuracy: 0.959091\u001b[0m\n",
      "\u001b[31mValidation accuracy has not improved for last 12 epochs.\u001b[0m\n",
      "\u001b[31m-------------- End of epoch: 33\u001b[0m\n",
      "\u001b[31mUsing 16 threads for prediction!\u001b[0m\n",
      "\u001b[31mValidation accuracy: 0.958232\u001b[0m\n",
      "\u001b[31mValidation accuracy has not improved for last 13 epochs.\u001b[0m\n",
      "\u001b[31m-------------- End of epoch: 34\u001b[0m\n",
      "\u001b[31mUsing 16 threads for prediction!\u001b[0m\n",
      "\u001b[31mValidation accuracy: 0.955968\u001b[0m\n",
      "\u001b[31mValidation accuracy has not improved for last 14 epochs.\u001b[0m\n",
      "\u001b[31m-------------- End of epoch: 35\u001b[0m\n",
      "\u001b[31mUsing 16 threads for prediction!\u001b[0m\n",
      "\u001b[31mValidation accuracy: 0.959169\u001b[0m\n",
      "\u001b[31mValidation accuracy has not improved for last 15 epochs.\u001b[0m\n",
      "\u001b[31m-------------- End of epoch: 36\u001b[0m\n",
      "\u001b[31mUsing 16 threads for prediction!\u001b[0m\n",
      "\u001b[31mValidation accuracy: 0.955734\u001b[0m\n",
      "\u001b[31mValidation accuracy has not improved for last 16 epochs.\u001b[0m\n",
      "\u001b[31m-------------- End of epoch: 37\u001b[0m\n",
      "\u001b[31mUsing 16 threads for prediction!\u001b[0m\n",
      "\u001b[31mValidation accuracy: 0.95511\u001b[0m\n",
      "\u001b[31mValidation accuracy has not improved for last 17 epochs.\u001b[0m\n",
      "\u001b[31m-------------- End of epoch: 38\u001b[0m\n",
      "\u001b[31mUsing 16 threads for prediction!\u001b[0m\n",
      "\u001b[31mValidation accuracy: 0.956281\u001b[0m\n",
      "\u001b[31mValidation accuracy has not improved for last 18 epochs.\u001b[0m\n",
      "\u001b[31m-------------- End of epoch: 39\u001b[0m\n",
      "\u001b[31mUsing 16 threads for prediction!\u001b[0m\n",
      "\u001b[31mValidation accuracy: 0.954563\u001b[0m\n",
      "\u001b[31mValidation accuracy has not improved for last 19 epochs.\u001b[0m\n",
      "\u001b[31m-------------- End of epoch: 40\u001b[0m\n",
      "\u001b[31mUsing 16 threads for prediction!\u001b[0m\n",
      "\u001b[31mValidation accuracy: 0.958154\u001b[0m\n",
      "\u001b[31mValidation accuracy has not improved for last 20 epochs.\u001b[0m\n",
      "\u001b[31m-------------- End of epoch: 41\u001b[0m\n",
      "\u001b[31mUsing 16 threads for prediction!\u001b[0m\n",
      "\u001b[31mValidation accuracy: 0.957764\u001b[0m\n",
      "\u001b[31mValidation accuracy has not improved for last 21 epochs.\u001b[0m\n",
      "\u001b[31m-------------- End of epoch: 42\u001b[0m\n",
      "\u001b[31mUsing 16 threads for prediction!\u001b[0m\n",
      "\u001b[31mValidation accuracy: 0.958545\u001b[0m\n",
      "\u001b[31mValidation accuracy has not improved for last 22 epochs.\u001b[0m\n",
      "\u001b[31m##### Alpha: 0.0465  Progress: 7.04%  Million Words/sec: 4.43 #####\u001b[0m\n",
      "\u001b[31m-------------- End of epoch: 43\u001b[0m\n",
      "\u001b[31mUsing 16 threads for prediction!\u001b[0m\n",
      "\u001b[31mValidation accuracy: 0.958623\u001b[0m\n",
      "\u001b[31mValidation accuracy has not improved for last 23 epochs.\u001b[0m\n",
      "\u001b[31m-------------- End of epoch: 44\u001b[0m\n",
      "\u001b[31mUsing 16 threads for prediction!\u001b[0m\n",
      "\u001b[31mValidation accuracy: 0.958467\u001b[0m\n",
      "\u001b[31mValidation accuracy has not improved for last 24 epochs.\u001b[0m\n",
      "\u001b[31m-------------- End of epoch: 45\u001b[0m\n",
      "\u001b[31mUsing 16 threads for prediction!\u001b[0m\n",
      "\u001b[31mValidation accuracy: 0.958232\u001b[0m\n",
      "\u001b[31mValidation accuracy has not improved for last 25 epochs.\u001b[0m\n",
      "\u001b[31m-------------- End of epoch: 46\u001b[0m\n",
      "\u001b[31mUsing 16 threads for prediction!\u001b[0m\n",
      "\u001b[31mValidation accuracy: 0.95714\u001b[0m\n",
      "\u001b[31mValidation accuracy has not improved for last 26 epochs.\u001b[0m\n",
      "\u001b[31m-------------- End of epoch: 47\u001b[0m\n",
      "\u001b[31mUsing 16 threads for prediction!\u001b[0m\n",
      "\u001b[31mValidation accuracy: 0.956905\u001b[0m\n",
      "\u001b[31mValidation accuracy has not improved for last 27 epochs.\u001b[0m\n",
      "\u001b[31m-------------- End of epoch: 48\u001b[0m\n",
      "\u001b[31mUsing 16 threads for prediction!\u001b[0m\n",
      "\u001b[31mValidation accuracy: 0.956359\u001b[0m\n",
      "\u001b[31mValidation accuracy has not improved for last 28 epochs.\u001b[0m\n",
      "\u001b[31m-------------- End of epoch: 49\u001b[0m\n",
      "\u001b[31mUsing 16 threads for prediction!\u001b[0m\n",
      "\u001b[31mValidation accuracy: 0.954954\u001b[0m\n",
      "\u001b[31mValidation accuracy has not improved for last 29 epochs.\u001b[0m\n",
      "\u001b[31m-------------- End of epoch: 50\u001b[0m\n",
      "\u001b[31mUsing 16 threads for prediction!\u001b[0m\n",
      "\u001b[31mValidation accuracy: 0.956281\u001b[0m\n",
      "\u001b[31mValidation accuracy has not improved for last 30 epochs.\u001b[0m\n",
      "\u001b[31m-------------- End of epoch: 51\u001b[0m\n",
      "\u001b[31mUsing 16 threads for prediction!\u001b[0m\n",
      "\u001b[31mValidation accuracy: 0.955422\u001b[0m\n",
      "\u001b[31mValidation accuracy has not improved for last 31 epochs.\u001b[0m\n",
      "\u001b[31m-------------- End of epoch: 52\u001b[0m\n",
      "\u001b[31mUsing 16 threads for prediction!\u001b[0m\n",
      "\u001b[31mValidation accuracy: 0.957842\u001b[0m\n",
      "\u001b[31mValidation accuracy has not improved for last 32 epochs.\u001b[0m\n",
      "\u001b[31m-------------- End of epoch: 53\u001b[0m\n",
      "\u001b[31mUsing 16 threads for prediction!\u001b[0m\n",
      "\u001b[31mValidation accuracy: 0.957296\u001b[0m\n",
      "\u001b[31mValidation accuracy has not improved for last 33 epochs.\u001b[0m\n",
      "\u001b[31m-------------- End of epoch: 54\u001b[0m\n",
      "\u001b[31mUsing 16 threads for prediction!\u001b[0m\n",
      "\u001b[31mValidation accuracy: 0.956671\u001b[0m\n",
      "\u001b[31mValidation accuracy has not improved for last 34 epochs.\u001b[0m\n",
      "\u001b[31m-------------- End of epoch: 55\u001b[0m\n",
      "\u001b[31mUsing 16 threads for prediction!\u001b[0m\n",
      "\u001b[31mValidation accuracy: 0.95792\u001b[0m\n",
      "\u001b[31mValidation accuracy has not improved for last 35 epochs.\u001b[0m\n",
      "\u001b[31m-------------- End of epoch: 56\u001b[0m\n",
      "\u001b[31mUsing 16 threads for prediction!\u001b[0m\n",
      "\u001b[31mValidation accuracy: 0.956593\u001b[0m\n",
      "\u001b[31mValidation accuracy has not improved for last 36 epochs.\u001b[0m\n",
      "\u001b[31m-------------- End of epoch: 57\u001b[0m\n",
      "\u001b[31mUsing 16 threads for prediction!\u001b[0m\n",
      "\u001b[31mValidation accuracy: 0.958232\u001b[0m\n",
      "\u001b[31mValidation accuracy has not improved for last 37 epochs.\u001b[0m\n",
      "\u001b[31m-------------- End of epoch: 58\u001b[0m\n",
      "\u001b[31mUsing 16 threads for prediction!\u001b[0m\n",
      "\u001b[31mValidation accuracy: 0.958545\u001b[0m\n",
      "\u001b[31mValidation accuracy has not improved for last 38 epochs.\u001b[0m\n",
      "\u001b[31m-------------- End of epoch: 59\u001b[0m\n",
      "\u001b[31mUsing 16 threads for prediction!\u001b[0m\n",
      "\u001b[31mValidation accuracy: 0.956281\u001b[0m\n",
      "\u001b[31mValidation accuracy has not improved for last 39 epochs.\u001b[0m\n",
      "\u001b[31m-------------- End of epoch: 60\u001b[0m\n",
      "\u001b[31mUsing 16 threads for prediction!\u001b[0m\n",
      "\u001b[31mValidation accuracy: 0.955032\u001b[0m\n",
      "\u001b[31mValidation accuracy has not improved for last 40 epochs.\u001b[0m\n",
      "\u001b[31m-------------- End of epoch: 61\u001b[0m\n",
      "\u001b[31mUsing 16 threads for prediction!\u001b[0m\n",
      "\u001b[31mValidation accuracy: 0.958154\u001b[0m\n",
      "\u001b[31mValidation accuracy has not improved for last 41 epochs.\u001b[0m\n",
      "\u001b[31m-------------- End of epoch: 62\u001b[0m\n",
      "\u001b[31mUsing 16 threads for prediction!\u001b[0m\n",
      "\u001b[31mValidation accuracy: 0.956905\u001b[0m\n",
      "\u001b[31mValidation accuracy has not improved for last 42 epochs.\u001b[0m\n",
      "\u001b[31m-------------- End of epoch: 63\u001b[0m\n",
      "\u001b[31mUsing 16 threads for prediction!\u001b[0m\n",
      "\u001b[31mValidation accuracy: 0.958701\u001b[0m\n",
      "\u001b[31mValidation accuracy has not improved for last 43 epochs.\u001b[0m\n",
      "\u001b[31m-------------- End of epoch: 64\u001b[0m\n",
      "\u001b[31mUsing 16 threads for prediction!\u001b[0m\n",
      "\u001b[31mValidation accuracy: 0.956125\u001b[0m\n",
      "\u001b[31mValidation accuracy has not improved for last 44 epochs.\u001b[0m\n",
      "\u001b[31m-------------- End of epoch: 65\u001b[0m\n",
      "\u001b[31mUsing 16 threads for prediction!\u001b[0m\n",
      "\u001b[31mValidation accuracy: 0.956047\u001b[0m\n",
      "\u001b[31mValidation accuracy has not improved for last 45 epochs.\u001b[0m\n",
      "\u001b[31m-------------- End of epoch: 66\u001b[0m\n",
      "\u001b[31mUsing 16 threads for prediction!\u001b[0m\n",
      "\u001b[31mValidation accuracy: 0.956515\u001b[0m\n",
      "\u001b[31mValidation accuracy has not improved for last 46 epochs.\u001b[0m\n",
      "\u001b[31m-------------- End of epoch: 67\u001b[0m\n",
      "\u001b[31mUsing 16 threads for prediction!\u001b[0m\n",
      "\u001b[31mValidation accuracy: 0.959013\u001b[0m\n",
      "\u001b[31mValidation accuracy has not improved for last 47 epochs.\u001b[0m\n",
      "\u001b[31m-------------- End of epoch: 68\u001b[0m\n",
      "\u001b[31mUsing 16 threads for prediction!\u001b[0m\n",
      "\u001b[31mValidation accuracy: 0.957608\u001b[0m\n",
      "\u001b[31mValidation accuracy has not improved for last 48 epochs.\u001b[0m\n",
      "\u001b[31m-------------- End of epoch: 69\u001b[0m\n",
      "\u001b[31mUsing 16 threads for prediction!\u001b[0m\n",
      "\u001b[31mValidation accuracy: 0.957998\u001b[0m\n",
      "\u001b[31mValidation accuracy has not improved for last 49 epochs.\u001b[0m\n",
      "\u001b[31m-------------- End of epoch: 70\u001b[0m\n",
      "\u001b[31mUsing 16 threads for prediction!\u001b[0m\n",
      "\u001b[31mValidation accuracy: 0.957296\u001b[0m\n",
      "\u001b[31mValidation accuracy has not improved for last 50 epochs.\u001b[0m\n",
      "\u001b[31mReached patience. Terminating training.\u001b[0m\n",
      "\u001b[31mBest epoch: 20\u001b[0m\n",
      "\u001b[31mBest validation accuracy: 0.959794\u001b[0m\n",
      "\u001b[31m##### Alpha: 0.0000  Progress: 100.00%  Million Words/sec: 42.61 #####\u001b[0m\n",
      "\u001b[31mTraining finished.\u001b[0m\n",
      "\u001b[31mAverage throughput in Million words/sec: 42.61\u001b[0m\n",
      "\u001b[31mTotal training time in seconds: 23.29\n",
      "\u001b[0m\n",
      "\u001b[31m#train_accuracy: 0.999\u001b[0m\n",
      "\u001b[31mNumber of train examples: 51236\n",
      "\u001b[0m\n",
      "\u001b[31m#validation_accuracy: 0.9598\u001b[0m\n",
      "\u001b[31mNumber of validation examples: 12809\u001b[0m\n"
     ]
    },
    {
     "name": "stdout",
     "output_type": "stream",
     "text": [
      "\n",
      "Billable seconds: 197\n"
     ]
    }
   ],
   "source": [
    "bt_model.fit(inputs=data_channels, logs=True)"
   ]
  },
  {
   "cell_type": "code",
   "execution_count": 60,
   "metadata": {},
   "outputs": [
    {
     "name": "stdout",
     "output_type": "stream",
     "text": [
      "blazingtextemailfraud-model-2018-10-11-22-59-55\n",
      "s3://aegovansagemaker/cs_emailfraud/sagemaker/output/blazingtext-2018-10-11-22-50-34-385/output/model.tar.gz\n",
      "arn:aws:sagemaker:us-east-2:324346001917:model/blazingtextemailfraud-model-2018-10-11-22-59-55\n",
      "CPU times: user 52 ms, sys: 4 ms, total: 56 ms\n",
      "Wall time: 337 ms\n"
     ]
    }
   ],
   "source": [
    "%%time\n",
    "import boto3\n",
    "from time import gmtime, strftime\n",
    "sagemaker_session = sagemaker.Session()\n",
    "model_name=\"blazingtextemailfraud\" + '-model-' +  strftime(\"%Y-%m-%d-%H-%M-%S\", gmtime())\n",
    "print(model_name)\n",
    "\n",
    "chainer_training_job = bt_model.latest_training_job.name\n",
    "desc = sagemaker_session.sagemaker_client.describe_training_job(TrainingJobName=chainer_training_job)\n",
    "model_data = desc['ModelArtifacts']['S3ModelArtifacts']\n",
    "\n",
    "print(model_data)\n",
    "\n",
    "primary_container = {\n",
    "    'Image': container,\n",
    "    'ModelDataUrl': model_data\n",
    "}\n",
    "\n",
    "client = boto3.client('sagemaker')\n",
    "create_model_response = client.create_model(\n",
    "    ModelName = model_name,\n",
    "    ExecutionRoleArn = role,\n",
    "    PrimaryContainer = primary_container)\n",
    "\n",
    "print(create_model_response['ModelArn'])"
   ]
  },
  {
   "cell_type": "markdown",
   "metadata": {},
   "source": [
    "## Hyperparamter Tuning to optimise even further.."
   ]
  },
  {
   "cell_type": "code",
   "execution_count": 99,
   "metadata": {},
   "outputs": [],
   "source": [
    "tuning_job_config = {\n",
    "    \"ParameterRanges\": {\n",
    "      \"CategoricalParameterRanges\": [],\n",
    "      \"ContinuousParameterRanges\": [\n",
    "       \n",
    "        {\n",
    "          \"MaxValue\": \".08\",\n",
    "          \"MinValue\": \".01\",\n",
    "          \"Name\": \"learning_rate\"\n",
    "        }\n",
    "      ],\n",
    "      \"IntegerParameterRanges\": [\n",
    "        {\n",
    "          \"MaxValue\": \"1000\",\n",
    "          \"MinValue\": \"200\",\n",
    "          \"Name\": \"epochs\"\n",
    "        },\n",
    "          \n",
    "        {\n",
    "          \"MaxValue\": \"10\",\n",
    "          \"MinValue\": \"2\",\n",
    "          \"Name\": \"min_count\"\n",
    "        },\n",
    "           {\n",
    "          \"MaxValue\": \"400\",\n",
    "          \"MinValue\": \"50\",\n",
    "          \"Name\": \"vector_dim\"\n",
    "        },\n",
    "          \n",
    "      ]\n",
    "    },\n",
    "    \"ResourceLimits\": {\n",
    "      \"MaxNumberOfTrainingJobs\": 20,\n",
    "      \"MaxParallelTrainingJobs\": 3\n",
    "    },\n",
    "    \"Strategy\": \"Bayesian\",\n",
    "    \"HyperParameterTuningJobObjective\": {\n",
    "      \"MetricName\": \"validation:accuracy\",\n",
    "      \"Type\": \"Maximize\"\n",
    "    }\n",
    "  }"
   ]
  },
  {
   "cell_type": "code",
   "execution_count": 100,
   "metadata": {},
   "outputs": [],
   "source": [
    "\n",
    "     \n",
    "training_job_definition = {\n",
    "    \"AlgorithmSpecification\": {\n",
    "      \"TrainingImage\": container,\n",
    "      \"TrainingInputMode\": \"File\"\n",
    "    },\n",
    "    \"InputDataConfig\": [\n",
    "      {\n",
    "        \"ChannelName\": \"train\",\n",
    "        \"CompressionType\": \"None\",\n",
    "        \"ContentType\": \"text/plain\",\n",
    "        \"DataSource\": {\n",
    "          \"S3DataSource\": {\n",
    "            \"S3DataDistributionType\": \"FullyReplicated\",\n",
    "            \"S3DataType\": \"S3Prefix\",\n",
    "            \"S3Uri\": s3_train_data\n",
    "          }\n",
    "        }\n",
    "      },\n",
    "      {\n",
    "        \"ChannelName\": \"validation\",\n",
    "        \"CompressionType\": \"None\",\n",
    "        \"ContentType\": \"text/plain\",\n",
    "        \"DataSource\": {\n",
    "          \"S3DataSource\": {\n",
    "            \"S3DataDistributionType\": \"FullyReplicated\",\n",
    "            \"S3DataType\": \"S3Prefix\",\n",
    "            \"S3Uri\": s3_validation_data\n",
    "          }\n",
    "        }\n",
    "      }\n",
    "    ],\n",
    "    \"OutputDataConfig\": {\n",
    "      \"S3OutputPath\": \"s3://{}/{}/output\".format(bucket,prefix)\n",
    "    },\n",
    "    \"ResourceConfig\": {\n",
    "      \"InstanceCount\": 1,\n",
    "      \"InstanceType\": \"ml.c4.4xlarge\",\n",
    "      \"VolumeSizeInGB\": 10\n",
    "    },\n",
    "    \"RoleArn\": role,\n",
    "    \"StaticHyperParameters\": {\n",
    "        \"mode\":\"supervised\",\n",
    "        \"early_stopping\":\"True\",\n",
    "        \"patience\":\"50\",\n",
    "        \"min_epochs\":\"5\"\n",
    "    },\n",
    "    \"StoppingCondition\": {\n",
    "      \"MaxRuntimeInSeconds\": 43200\n",
    "    }\n",
    "}\n"
   ]
  },
  {
   "cell_type": "code",
   "execution_count": 101,
   "metadata": {},
   "outputs": [
    {
     "data": {
      "text/plain": [
       "{'HyperParameterTuningJobArn': 'arn:aws:sagemaker:us-east-2:324346001917:hyper-parameter-tuning-job/blazingtextemail-20181015052503',\n",
       " 'ResponseMetadata': {'RequestId': 'b4e53cf7-adad-4252-991f-3f5a443aebd2',\n",
       "  'HTTPStatusCode': 200,\n",
       "  'HTTPHeaders': {'x-amzn-requestid': 'b4e53cf7-adad-4252-991f-3f5a443aebd2',\n",
       "   'content-type': 'application/x-amz-json-1.1',\n",
       "   'content-length': '132',\n",
       "   'date': 'Mon, 15 Oct 2018 05:25:03 GMT'},\n",
       "  'RetryAttempts': 0}}"
      ]
     },
     "execution_count": 101,
     "metadata": {},
     "output_type": "execute_result"
    }
   ],
   "source": [
    "from time import gmtime, strftime\n",
    "\n",
    "tuning_job_name = \"blazingtextemail-\" + strftime(\"%Y%m%d%H%M%S\", gmtime())\n",
    "smclient = boto3.Session().client('sagemaker')\n",
    "\n",
    "smclient.create_hyper_parameter_tuning_job(HyperParameterTuningJobName = tuning_job_name,\n",
    "                                           HyperParameterTuningJobConfig = tuning_job_config,\n",
    "                                           TrainingJobDefinition = training_job_definition)"
   ]
  },
  {
   "cell_type": "code",
   "execution_count": null,
   "metadata": {},
   "outputs": [],
   "source": []
  },
  {
   "cell_type": "markdown",
   "metadata": {},
   "source": [
    "## Inference using sagemaker batch transform"
   ]
  },
  {
   "cell_type": "code",
   "execution_count": 61,
   "metadata": {},
   "outputs": [],
   "source": [
    "batchfileinput=\"{}/batchtest.json\".format(local_tmp_dir)\n",
    "batchfileoutput=\"{}/batchtest.output.json\".format(local_tmp_dir)\n"
   ]
  },
  {
   "cell_type": "markdown",
   "metadata": {},
   "source": [
    "#### Create a json file that is formatted  for blazing text inference\n",
    "It kind of looks like\n",
    "```json\n",
    "{\n",
    "  \"instances\": [\"hey mate , very interested in this\", \"does it include a pakc ?\", \"hi is it working\"],\n",
    "  \"configuration\": {\n",
    "    \"k\": 2\n",
    "  }\n",
    "}\n",
    "```"
   ]
  },
  {
   "cell_type": "code",
   "execution_count": 62,
   "metadata": {},
   "outputs": [
    {
     "name": "stdout",
     "output_type": "stream",
     "text": [
      "CPU times: user 1.74 s, sys: 24 ms, total: 1.77 s\n",
      "Wall time: 1.77 s\n"
     ]
    }
   ],
   "source": [
    "%%time\n",
    "\n",
    "import json\n",
    "from itertools import islice\n",
    "import math\n",
    "import struct\n",
    "import json\n",
    "\n",
    "test_data = test\n",
    "\n",
    "input_records = [\" \".join(l[\"tokens\"]) for index, l in test_data.iterrows()]\n",
    "labels = [\"__label__{}\".format(l[\"label\"]) for index, l  in test_data.iterrows() ]\n",
    "\n",
    "input_json = {\"instances\" : input_records, \"configuration\": {\"k\": num_classes}}\n",
    "with open(batchfileinput , \"w\") as f:\n",
    "    f.write(json.dumps(input_json))\n",
    "                                          "
   ]
  },
  {
   "cell_type": "code",
   "execution_count": 63,
   "metadata": {},
   "outputs": [
    {
     "name": "stderr",
     "output_type": "stream",
     "text": [
      "INFO:sagemaker:Creating transform job with name: Batch-Transform-2018-10-11-23-00-07-469\n"
     ]
    },
    {
     "name": "stdout",
     "output_type": "stream",
     "text": [
      "...................................!\n",
      "cs_emailfraud/sagemaker/batchTransform/2018-10-11-23-00-07_output/batchvalidation.csv.out\n",
      "CPU times: user 220 ms, sys: 20 ms, total: 240 ms\n",
      "Wall time: 2min 57s\n"
     ]
    }
   ],
   "source": [
    "%%time\n",
    "import boto3\n",
    "import sagemaker\n",
    "import json\n",
    "\n",
    "fmttime= strftime(\"%Y-%m-%d-%H-%M-%S\", gmtime())\n",
    "input_key_file=\"batchvalidation.csv\"\n",
    "input_batch_key=\"{}/batchTransform/{}_input/{}\".format(prefix, fmttime, input_key_file)\n",
    "input_location = 's3://{}/{}'.format(bucket, input_batch_key)\n",
    "output_batch_key = \"{}/batchTransform/{}_output\".format(prefix,fmttime)\n",
    "output_location = 's3://{}/{}'.format(bucket, output_batch_key)\n",
    "\n",
    "\n",
    "s3_client = boto3.client('s3')\n",
    "s3_client.upload_file(batchfileinput, bucket, input_batch_key)\n",
    "\n",
    "# Initialize the transformer object\n",
    "transformer =sagemaker.transformer.Transformer(\n",
    "    base_transform_job_name='Batch-Transform',\n",
    "    model_name=model_name,\n",
    "    instance_count=1,\n",
    "    instance_type='ml.c4.xlarge',\n",
    "    output_path=output_location\n",
    "    )\n",
    "# To start a transform job:\n",
    "transformer.transform(input_location, content_type='application/json')\n",
    "# Then wait until transform job is completed\n",
    "transformer.wait()\n",
    "\n",
    "# To fetch validation result \n",
    "outputkey ='{}/{}.out'.format(output_batch_key, input_key_file)\n",
    "print(outputkey)\n",
    "s3_client.download_file(bucket, outputkey, batchfileoutput)\n",
    "\n"
   ]
  },
  {
   "cell_type": "code",
   "execution_count": 64,
   "metadata": {},
   "outputs": [],
   "source": [
    "import json\n",
    "\n",
    "with open(batchfileoutput) as f:\n",
    "    predicted = json.load(f)\n",
    "\n"
   ]
  },
  {
   "cell_type": "markdown",
   "metadata": {},
   "source": [
    "The output of Blazing text inference looks like this\n",
    "```json\n",
    "[{\n",
    "    'prob': [0.9910072088241577, 0.00901278480887413],\n",
    "    'label': ['__label__0', '__label__1']\n",
    "  }, {\n",
    "    'prob': [0.9973444938659668, 0.002675538882613182],\n",
    "    'label': ['__label__1', '__label__0']\n",
    "  }, {\n",
    "    'prob': [0.9969576001167297, 0.003062397940084338],\n",
    "    'label': ['__label__0', '__label__1']\n",
    "  ]\n",
    "]\n",
    "```\n",
    "\n",
    "So lets format it so that we can analyse the performance"
   ]
  },
  {
   "cell_type": "code",
   "execution_count": 65,
   "metadata": {},
   "outputs": [],
   "source": [
    "predicted_labels = [ r['label'][r['prob'].index(max(r['prob']))] for r in predicted]\n",
    "predicted_confidence_score = [ max(r['prob'])/sum(r['prob']) for r in predicted]\n",
    "\n"
   ]
  },
  {
   "cell_type": "markdown",
   "metadata": {},
   "source": [
    "Convert the label format \\__label__1 to 1 , as the scores work on numeric labels only"
   ]
  },
  {
   "cell_type": "code",
   "execution_count": 66,
   "metadata": {},
   "outputs": [],
   "source": [
    "import pandas as pd\n",
    "\n",
    "y_actual = pd.DataFrame(labels, columns = [\"label\"]) #== \"__label__1\"\n",
    "y_pred = pd.DataFrame(predicted_labels, columns = [\"predicted_label\"]) #== \"__label__1\"\n",
    "y_confidence_score =  pd.DataFrame(predicted_confidence_score, columns = [\"predicted_label_confidence_score\"])"
   ]
  },
  {
   "cell_type": "code",
   "execution_count": 67,
   "metadata": {},
   "outputs": [],
   "source": [
    "import numpy as np\n",
    "unique_classes = predicted[0]['label']\n",
    "\n",
    "y_classwise_prob = pd.DataFrame(0, index=np.arange(len(predicted)), columns=unique_classes)\n",
    "for c in unique_classes:\n",
    "    y_classwise_prob[c] = pd.DataFrame([ r['prob'][r['label'].index(c)]/sum(r['prob']) for r in predicted])\n",
    "\n"
   ]
  },
  {
   "cell_type": "markdown",
   "metadata": {},
   "source": [
    "### Evaluate the performance"
   ]
  },
  {
   "cell_type": "code",
   "execution_count": 68,
   "metadata": {},
   "outputs": [],
   "source": [
    "positive_label=\"__label__1\""
   ]
  },
  {
   "cell_type": "code",
   "execution_count": 69,
   "metadata": {},
   "outputs": [
    {
     "data": {
      "text/html": [
       "<div>\n",
       "<style scoped>\n",
       "    .dataframe tbody tr th:only-of-type {\n",
       "        vertical-align: middle;\n",
       "    }\n",
       "\n",
       "    .dataframe tbody tr th {\n",
       "        vertical-align: top;\n",
       "    }\n",
       "\n",
       "    .dataframe thead th {\n",
       "        text-align: right;\n",
       "    }\n",
       "</style>\n",
       "<table border=\"1\" class=\"dataframe\">\n",
       "  <thead>\n",
       "    <tr style=\"text-align: right;\">\n",
       "      <th></th>\n",
       "      <th>predicted_label</th>\n",
       "      <th>confidence_score</th>\n",
       "      <th>score_postive_class</th>\n",
       "      <th>actual</th>\n",
       "    </tr>\n",
       "  </thead>\n",
       "  <tbody>\n",
       "    <tr>\n",
       "      <th>0</th>\n",
       "      <td>__label__0</td>\n",
       "      <td>0.993730</td>\n",
       "      <td>0.006270</td>\n",
       "      <td>__label__0</td>\n",
       "    </tr>\n",
       "    <tr>\n",
       "      <th>1</th>\n",
       "      <td>__label__1</td>\n",
       "      <td>0.999951</td>\n",
       "      <td>0.999951</td>\n",
       "      <td>__label__1</td>\n",
       "    </tr>\n",
       "    <tr>\n",
       "      <th>2</th>\n",
       "      <td>__label__0</td>\n",
       "      <td>0.974258</td>\n",
       "      <td>0.025742</td>\n",
       "      <td>__label__0</td>\n",
       "    </tr>\n",
       "    <tr>\n",
       "      <th>3</th>\n",
       "      <td>__label__0</td>\n",
       "      <td>0.999912</td>\n",
       "      <td>0.000088</td>\n",
       "      <td>__label__0</td>\n",
       "    </tr>\n",
       "    <tr>\n",
       "      <th>4</th>\n",
       "      <td>__label__0</td>\n",
       "      <td>0.999988</td>\n",
       "      <td>0.000012</td>\n",
       "      <td>__label__0</td>\n",
       "    </tr>\n",
       "    <tr>\n",
       "      <th>5</th>\n",
       "      <td>__label__0</td>\n",
       "      <td>0.999980</td>\n",
       "      <td>0.000020</td>\n",
       "      <td>__label__0</td>\n",
       "    </tr>\n",
       "    <tr>\n",
       "      <th>6</th>\n",
       "      <td>__label__0</td>\n",
       "      <td>0.999990</td>\n",
       "      <td>0.000010</td>\n",
       "      <td>__label__1</td>\n",
       "    </tr>\n",
       "    <tr>\n",
       "      <th>7</th>\n",
       "      <td>__label__0</td>\n",
       "      <td>0.999672</td>\n",
       "      <td>0.000328</td>\n",
       "      <td>__label__0</td>\n",
       "    </tr>\n",
       "    <tr>\n",
       "      <th>8</th>\n",
       "      <td>__label__0</td>\n",
       "      <td>0.999990</td>\n",
       "      <td>0.000010</td>\n",
       "      <td>__label__0</td>\n",
       "    </tr>\n",
       "    <tr>\n",
       "      <th>9</th>\n",
       "      <td>__label__0</td>\n",
       "      <td>0.999798</td>\n",
       "      <td>0.000202</td>\n",
       "      <td>__label__0</td>\n",
       "    </tr>\n",
       "  </tbody>\n",
       "</table>\n",
       "</div>"
      ],
      "text/plain": [
       "  predicted_label  confidence_score  score_postive_class      actual\n",
       "0      __label__0          0.993730             0.006270  __label__0\n",
       "1      __label__1          0.999951             0.999951  __label__1\n",
       "2      __label__0          0.974258             0.025742  __label__0\n",
       "3      __label__0          0.999912             0.000088  __label__0\n",
       "4      __label__0          0.999988             0.000012  __label__0\n",
       "5      __label__0          0.999980             0.000020  __label__0\n",
       "6      __label__0          0.999990             0.000010  __label__1\n",
       "7      __label__0          0.999672             0.000328  __label__0\n",
       "8      __label__0          0.999990             0.000010  __label__0\n",
       "9      __label__0          0.999798             0.000202  __label__0"
      ]
     },
     "execution_count": 69,
     "metadata": {},
     "output_type": "execute_result"
    }
   ],
   "source": [
    "\n",
    "\n",
    "y_display= pd.DataFrame()\n",
    "y_display[\"predicted_label\"] = y_pred[\"predicted_label\"]\n",
    "y_display['confidence_score'] = y_confidence_score[\"predicted_label_confidence_score\"]\n",
    "y_display['score_postive_class'] = y_classwise_prob[\"__label__1\"]\n",
    "y_display['actual'] = y_actual['label']\n",
    "y_display.head(n=10)\n",
    "\n"
   ]
  },
  {
   "cell_type": "code",
   "execution_count": 70,
   "metadata": {},
   "outputs": [
    {
     "data": {
      "image/png": "[encoded data removed]",
      "text/plain": [
       "<Figure size 432x288 with 2 Axes>"
      ]
     },
     "metadata": {},
     "output_type": "display_data"
    }
   ],
   "source": [
    "import scikitplot as skplt\n",
    "import matplotlib.pyplot as plt\n",
    "\n",
    "skplt.metrics.plot_confusion_matrix(y_actual, y_pred, labels=None, true_labels=None, pred_labels=None, title=None, normalize=False, hide_zeros=False, hide_counts=False, x_tick_rotation=0, ax=None, figsize=None, cmap='Blues', title_fontsize='large', text_fontsize='medium')\n",
    "plt.show()"
   ]
  },
  {
   "cell_type": "code",
   "execution_count": 71,
   "metadata": {},
   "outputs": [
    {
     "name": "stdout",
     "output_type": "stream",
     "text": [
      "The AUC under precision recall curve is 0.946342109148212\n",
      "F1 score 0.9046119651787368\n",
      "Precision score 0.9443155452436195\n",
      "Recall score 0.868112335584785\n",
      "Accuracy 0.959793894917636\n",
      "Area Under ROC curve 0.966680362155527\n"
     ]
    }
   ],
   "source": [
    "import sklearn\n",
    "from sklearn.metrics import accuracy_score, roc_curve, auc, precision_recall_fscore_support\n",
    "import numpy as np\n",
    "\n",
    "## Precision recall\n",
    "macro_score = sklearn.metrics.average_precision_score( y_actual, y_classwise_prob[positive_label] ,  pos_label = \"__label__1\")\n",
    "f1score = sklearn.metrics.f1_score(y_actual, y_pred , pos_label = positive_label, average='binary')\n",
    "precision = sklearn.metrics.precision_score(y_actual, y_pred ,  pos_label = positive_label, average='binary')\n",
    "recall = sklearn.metrics.recall_score( y_actual, y_pred ,  pos_label = positive_label, average='binary')\n",
    "\n",
    "## Unweighted ROC\n",
    "acc = accuracy_score(y_actual, y_pred)\n",
    "fpr, tpr, _ = roc_curve(y_actual,y_classwise_prob[positive_label], pos_label=positive_label)\n",
    "roc_auc = auc(fpr, tpr)\n",
    "\n",
    "print(\"The AUC under precision recall curve is {}\".format( macro_score))\n",
    "print(\"F1 score {}\".format(f1score))\n",
    "print(\"Precision score {}\".format(precision))\n",
    "print(\"Recall score {}\".format(recall))\n",
    "print(\"Accuracy {}\".format( acc))\n",
    "print(\"Area Under ROC curve {}\".format( roc_auc))\n",
    "\n"
   ]
  },
  {
   "cell_type": "code",
   "execution_count": 38,
   "metadata": {},
   "outputs": [
    {
     "data": {
      "image/png": "[encoded data removed]",
      "text/plain": [
       "<Figure size 720x720 with 1 Axes>"
      ]
     },
     "metadata": {},
     "output_type": "display_data"
    }
   ],
   "source": [
    "import scikitplot as skplt\n",
    "import matplotlib.pyplot as plt\n",
    "\n",
    "y_true =  y_actual# ground truth labels\n",
    "skplt.metrics.plot_roc(y_true, y_classwise_prob, figsize=(10,10))\n",
    "plt.show()"
   ]
  }
 ],
 "metadata": {
  "kernelspec": {
   "display_name": "conda_python3",
   "language": "python",
   "name": "conda_python3"
  },
  "language_info": {
   "codemirror_mode": {
    "name": "ipython",
    "version": 3
   },
   "file_extension": ".py",
   "mimetype": "text/x-python",
   "name": "python",
   "nbconvert_exporter": "python",
   "pygments_lexer": "ipython3",
   "version": "3.6.5"
  },
  "notice": "Copyright 2018 Amazon.com, Inc. or its affiliates. All Rights Reserved.  Licensed under the Apache License, Version 2.0 (the \"License\"). You may not use this file except in compliance with the License. A copy of the License is located at http://aws.amazon.com/apache2.0/ or in the \"license\" file accompanying this file. This file is distributed on an \"AS IS\" BASIS, WITHOUT WARRANTIES OR CONDITIONS OF ANY KIND, either express or implied. See the License for the specific language governing permissions and limitations under the License."
 },
 "nbformat": 4,
 "nbformat_minor": 2
}
